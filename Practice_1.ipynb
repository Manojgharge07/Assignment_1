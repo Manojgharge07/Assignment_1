{
  "nbformat": 4,
  "nbformat_minor": 0,
  "metadata": {
    "colab": {
      "name": "Practice_1.ipynb",
      "provenance": [],
      "authorship_tag": "ABX9TyNnLQwV8VWSyxHghd5E+l2O",
      "include_colab_link": true
    },
    "kernelspec": {
      "name": "python3",
      "display_name": "Python 3"
    },
    "language_info": {
      "name": "python"
    }
  },
  "cells": [
    {
      "cell_type": "markdown",
      "metadata": {
        "id": "view-in-github",
        "colab_type": "text"
      },
      "source": [
        "<a href=\"https://colab.research.google.com/github/Manojgharge07/Assignment_1/blob/main/Practice_1.ipynb\" target=\"_parent\"><img src=\"https://colab.research.google.com/assets/colab-badge.svg\" alt=\"Open In Colab\"/></a>"
      ]
    },
    {
      "cell_type": "code",
      "execution_count": null,
      "metadata": {
        "colab": {
          "base_uri": "https://localhost:8080/"
        },
        "id": "IEuKZnq0EvfD",
        "outputId": "4fd5d689-6bab-41a8-ec3e-004aae615e8a"
      },
      "outputs": [
        {
          "output_type": "stream",
          "name": "stdout",
          "text": [
            "-46\n"
          ]
        }
      ],
      "source": [
        "print(~45)"
      ]
    },
    {
      "cell_type": "code",
      "source": [
        "float('10')"
      ],
      "metadata": {
        "colab": {
          "base_uri": "https://localhost:8080/"
        },
        "id": "85LkS7IEE0x2",
        "outputId": "088c4212-45d2-4a97-9de0-b5e5a61cf181"
      },
      "execution_count": null,
      "outputs": [
        {
          "output_type": "execute_result",
          "data": {
            "text/plain": [
              "10.0"
            ]
          },
          "metadata": {},
          "execution_count": 4
        }
      ]
    },
    {
      "cell_type": "code",
      "source": [
        "x = [10,20,30,40]\n",
        "type(x)"
      ],
      "metadata": {
        "colab": {
          "base_uri": "https://localhost:8080/"
        },
        "id": "Lg34QtbtInSF",
        "outputId": "79cf5374-d09b-4613-b88b-ec188de4000e"
      },
      "execution_count": null,
      "outputs": [
        {
          "output_type": "execute_result",
          "data": {
            "text/plain": [
              "list"
            ]
          },
          "metadata": {},
          "execution_count": 5
        }
      ]
    },
    {
      "cell_type": "code",
      "source": [
        "x = [10,20,30,40]\n",
        "a = x*2\n",
        "print(a)\n",
        "print(type(a))"
      ],
      "metadata": {
        "colab": {
          "base_uri": "https://localhost:8080/"
        },
        "id": "ff1vS5wRJgW-",
        "outputId": "9879b92e-9064-4fd3-c57f-f67a98871e71"
      },
      "execution_count": null,
      "outputs": [
        {
          "output_type": "stream",
          "name": "stdout",
          "text": [
            "[10, 20, 30, 40, 10, 20, 30, 40]\n",
            "<class 'list'>\n"
          ]
        }
      ]
    },
    {
      "cell_type": "code",
      "source": [
        "x = {10,20,30,40}\n",
        "fs = frozenset(x)\n",
        "print(fs)"
      ],
      "metadata": {
        "colab": {
          "base_uri": "https://localhost:8080/"
        },
        "id": "4cJlDVx9Kr_L",
        "outputId": "b765f4be-8be7-432b-8811-fb8beb40bd62"
      },
      "execution_count": null,
      "outputs": [
        {
          "output_type": "stream",
          "name": "stdout",
          "text": [
            "frozenset({40, 10, 20, 30})\n"
          ]
        }
      ]
    },
    {
      "cell_type": "code",
      "source": [
        "x = [10,20,30,40]\n",
        "x.append(45)\n",
        "print(x)"
      ],
      "metadata": {
        "colab": {
          "base_uri": "https://localhost:8080/"
        },
        "id": "Q1JGpyZVLWrE",
        "outputId": "5a267b8e-ec23-40f6-b869-a31f94de6a24"
      },
      "execution_count": null,
      "outputs": [
        {
          "output_type": "stream",
          "name": "stdout",
          "text": [
            "[10, 20, 30, 40, 45]\n"
          ]
        }
      ]
    },
    {
      "cell_type": "code",
      "source": [
        "x = [10,20,30,40]\n",
        "x.remove(20)\n",
        "x"
      ],
      "metadata": {
        "colab": {
          "base_uri": "https://localhost:8080/"
        },
        "id": "jMHPeZnvL6T5",
        "outputId": "6edd0a06-0bbe-42d2-b2b4-a96cb57da600"
      },
      "execution_count": null,
      "outputs": [
        {
          "output_type": "execute_result",
          "data": {
            "text/plain": [
              "[10, 30, 40]"
            ]
          },
          "metadata": {},
          "execution_count": 10
        }
      ]
    },
    {
      "cell_type": "code",
      "source": [
        "t = (10,20,30,40,50)\n",
        "print(type(t))\n",
        "id(t)"
      ],
      "metadata": {
        "colab": {
          "base_uri": "https://localhost:8080/"
        },
        "id": "i7cshxj5Mxk1",
        "outputId": "c05636f2-6676-40a9-a013-9816a854559d"
      },
      "execution_count": null,
      "outputs": [
        {
          "output_type": "stream",
          "name": "stdout",
          "text": [
            "<class 'tuple'>\n"
          ]
        },
        {
          "output_type": "execute_result",
          "data": {
            "text/plain": [
              "140273930814096"
            ]
          },
          "metadata": {},
          "execution_count": 15
        }
      ]
    },
    {
      "cell_type": "code",
      "source": [
        "s = {100,2003,30440,'manoj',43885}\n",
        "type(s)"
      ],
      "metadata": {
        "colab": {
          "base_uri": "https://localhost:8080/"
        },
        "id": "vsLz_JLlNfLc",
        "outputId": "baf609e1-fbd4-4b58-e6ff-80fb2eef4e7d"
      },
      "execution_count": null,
      "outputs": [
        {
          "output_type": "execute_result",
          "data": {
            "text/plain": [
              "set"
            ]
          },
          "metadata": {},
          "execution_count": 16
        }
      ]
    },
    {
      "cell_type": "code",
      "source": [
        "s = {100,2003,30440,'manoj',43885}\n",
        "s.add(107)\n",
        "s"
      ],
      "metadata": {
        "colab": {
          "base_uri": "https://localhost:8080/"
        },
        "id": "7CElcI9GONnC",
        "outputId": "42cb497b-297c-466a-c260-6b5f743db662"
      },
      "execution_count": null,
      "outputs": [
        {
          "output_type": "execute_result",
          "data": {
            "text/plain": [
              "{100, 107, 2003, 30440, 43885, 'manoj'}"
            ]
          },
          "metadata": {},
          "execution_count": 21
        }
      ]
    },
    {
      "cell_type": "code",
      "source": [
        "s = {100, 107, 2003, 30440, 43885, 'manoj'}\n",
        "s.remove(30440)\n",
        "s"
      ],
      "metadata": {
        "colab": {
          "base_uri": "https://localhost:8080/"
        },
        "id": "GYPSZ8-LOoRE",
        "outputId": "5eb0305b-095d-4cc9-d02a-e7ae8a4e0365"
      },
      "execution_count": null,
      "outputs": [
        {
          "output_type": "execute_result",
          "data": {
            "text/plain": [
              "{100, 107, 2003, 43885, 'manoj'}"
            ]
          },
          "metadata": {},
          "execution_count": 22
        }
      ]
    },
    {
      "cell_type": "code",
      "source": [
        "d = {1:'Manoj',2:'Amit',3:'Mahesh',4:'Shailesh',5:'Sagar'}\n",
        "type(d)"
      ],
      "metadata": {
        "colab": {
          "base_uri": "https://localhost:8080/"
        },
        "id": "38HIEsZvPWuY",
        "outputId": "c056c91f-215a-4f4b-a45b-81fc0bfd564b"
      },
      "execution_count": null,
      "outputs": [
        {
          "output_type": "execute_result",
          "data": {
            "text/plain": [
              "dict"
            ]
          },
          "metadata": {},
          "execution_count": 24
        }
      ]
    },
    {
      "cell_type": "code",
      "source": [
        "d = {1:'Manoj',2:'Amit',3:'Mahesh',4:'Shailesh',5:'Sagar'}\n",
        "d[5]='Nanaso'\n",
        "d"
      ],
      "metadata": {
        "colab": {
          "base_uri": "https://localhost:8080/"
        },
        "id": "rA0n2N8WQIXD",
        "outputId": "ed10263a-60d3-4ff9-dc28-908e44392f7f"
      },
      "execution_count": null,
      "outputs": [
        {
          "output_type": "execute_result",
          "data": {
            "text/plain": [
              "{1: 'Manoj', 2: 'Amit', 3: 'Mahesh', 4: 'Shailesh', 5: 'Nanaso'}"
            ]
          },
          "metadata": {},
          "execution_count": 25
        }
      ]
    },
    {
      "cell_type": "code",
      "source": [
        "#and operator\n",
        "a = 24\n",
        "b = 16\n",
        "a&b"
      ],
      "metadata": {
        "colab": {
          "base_uri": "https://localhost:8080/"
        },
        "id": "3K_ce6-PQWYy",
        "outputId": "73ba83ed-ac3f-451c-caef-00c4901a79b5"
      },
      "execution_count": null,
      "outputs": [
        {
          "output_type": "execute_result",
          "data": {
            "text/plain": [
              "16"
            ]
          },
          "metadata": {},
          "execution_count": 26
        }
      ]
    },
    {
      "cell_type": "code",
      "source": [
        "#Or operator\n",
        "a = 24\n",
        "b = 16\n",
        "a|b"
      ],
      "metadata": {
        "colab": {
          "base_uri": "https://localhost:8080/"
        },
        "id": "8v7b2mIKSTp6",
        "outputId": "b5512055-ffb1-4c45-abb6-c30f4821087a"
      },
      "execution_count": null,
      "outputs": [
        {
          "output_type": "execute_result",
          "data": {
            "text/plain": [
              "24"
            ]
          },
          "metadata": {},
          "execution_count": 27
        }
      ]
    },
    {
      "cell_type": "code",
      "source": [
        "#X or operator \n",
        "a = 24\n",
        "b = 16\n",
        "a^b"
      ],
      "metadata": {
        "colab": {
          "base_uri": "https://localhost:8080/"
        },
        "id": "YOMq9coISmeD",
        "outputId": "45305f9c-dd88-4854-cb7e-417dffb51bc9"
      },
      "execution_count": null,
      "outputs": [
        {
          "output_type": "execute_result",
          "data": {
            "text/plain": [
              "8"
            ]
          },
          "metadata": {},
          "execution_count": 28
        }
      ]
    },
    {
      "cell_type": "code",
      "source": [
        "#compliment\n",
        "print(~45)"
      ],
      "metadata": {
        "colab": {
          "base_uri": "https://localhost:8080/"
        },
        "id": "oSW2jSkgSp5G",
        "outputId": "0285a18d-5c03-4787-df42-b2fa50a67a3b"
      },
      "execution_count": null,
      "outputs": [
        {
          "output_type": "stream",
          "name": "stdout",
          "text": [
            "-46\n"
          ]
        }
      ]
    },
    {
      "cell_type": "code",
      "source": [
        "a=45\n",
        "a%=7\n",
        "a"
      ],
      "metadata": {
        "colab": {
          "base_uri": "https://localhost:8080/"
        },
        "id": "Zf8N3eA8Tv05",
        "outputId": "665f81da-5194-4076-8b80-c5a5ae47f0c8"
      },
      "execution_count": null,
      "outputs": [
        {
          "output_type": "execute_result",
          "data": {
            "text/plain": [
              "3"
            ]
          },
          "metadata": {},
          "execution_count": 30
        }
      ]
    },
    {
      "cell_type": "code",
      "source": [
        "a=100\n",
        "a%=10\n",
        "a"
      ],
      "metadata": {
        "colab": {
          "base_uri": "https://localhost:8080/"
        },
        "id": "d-9nQeBOV02M",
        "outputId": "fd797e10-2e97-4ba4-eaf0-b2ccdf5d377c"
      },
      "execution_count": null,
      "outputs": [
        {
          "output_type": "execute_result",
          "data": {
            "text/plain": [
              "0"
            ]
          },
          "metadata": {},
          "execution_count": 31
        }
      ]
    },
    {
      "cell_type": "code",
      "source": [
        "a=100\n",
        "a%=5\n",
        "a"
      ],
      "metadata": {
        "colab": {
          "base_uri": "https://localhost:8080/"
        },
        "id": "PHfuq4j5V9wk",
        "outputId": "1bbd0c84-44e6-42d6-eabf-82aa44d19017"
      },
      "execution_count": null,
      "outputs": [
        {
          "output_type": "execute_result",
          "data": {
            "text/plain": [
              "0"
            ]
          },
          "metadata": {},
          "execution_count": 32
        }
      ]
    },
    {
      "cell_type": "code",
      "source": [
        "a=100\n",
        "a+=10\n",
        "a"
      ],
      "metadata": {
        "colab": {
          "base_uri": "https://localhost:8080/"
        },
        "id": "SPVExekZWGyv",
        "outputId": "c9d21f31-9185-4ea5-d145-7d08431836cc"
      },
      "execution_count": null,
      "outputs": [
        {
          "output_type": "execute_result",
          "data": {
            "text/plain": [
              "110"
            ]
          },
          "metadata": {},
          "execution_count": 38
        }
      ]
    },
    {
      "cell_type": "code",
      "source": [
        "a=45\n",
        "a%=8\n",
        "a"
      ],
      "metadata": {
        "colab": {
          "base_uri": "https://localhost:8080/"
        },
        "id": "H1wMSrxTWXL3",
        "outputId": "e0dff2ff-091a-4efd-af5b-98b47fdf92ed"
      },
      "execution_count": null,
      "outputs": [
        {
          "output_type": "execute_result",
          "data": {
            "text/plain": [
              "5"
            ]
          },
          "metadata": {},
          "execution_count": 39
        }
      ]
    },
    {
      "cell_type": "code",
      "source": [
        "a=45\n",
        "a%=7.8\n",
        "a"
      ],
      "metadata": {
        "colab": {
          "base_uri": "https://localhost:8080/"
        },
        "id": "F5bIXi4bXC-6",
        "outputId": "0d39dd85-1dfe-46d3-9fbd-13f37a07c728"
      },
      "execution_count": null,
      "outputs": [
        {
          "output_type": "execute_result",
          "data": {
            "text/plain": [
              "6.000000000000001"
            ]
          },
          "metadata": {},
          "execution_count": 37
        }
      ]
    },
    {
      "cell_type": "code",
      "source": [
        "a=40\n",
        "a%=7\n",
        "a"
      ],
      "metadata": {
        "colab": {
          "base_uri": "https://localhost:8080/"
        },
        "id": "_agdK5dKXj-w",
        "outputId": "de08ab94-0dea-4796-f235-55341ba71c1e"
      },
      "execution_count": null,
      "outputs": [
        {
          "output_type": "execute_result",
          "data": {
            "text/plain": [
              "5"
            ]
          },
          "metadata": {},
          "execution_count": 42
        }
      ]
    },
    {
      "cell_type": "code",
      "source": [
        "import math\n",
        "math.sqrt(25)"
      ],
      "metadata": {
        "colab": {
          "base_uri": "https://localhost:8080/"
        },
        "id": "NkOZC1juYLFK",
        "outputId": "88ee0501-397b-45d8-ca54-f5c03e98f683"
      },
      "execution_count": null,
      "outputs": [
        {
          "output_type": "execute_result",
          "data": {
            "text/plain": [
              "5.0"
            ]
          },
          "metadata": {},
          "execution_count": 44
        }
      ]
    },
    {
      "cell_type": "code",
      "source": [
        "import math\n",
        "math.ceil(34.22)"
      ],
      "metadata": {
        "colab": {
          "base_uri": "https://localhost:8080/"
        },
        "id": "vflPKPLFf58b",
        "outputId": "f181611c-618f-427b-e9b5-db8d8eed1f7d"
      },
      "execution_count": null,
      "outputs": [
        {
          "output_type": "execute_result",
          "data": {
            "text/plain": [
              "35"
            ]
          },
          "metadata": {},
          "execution_count": 51
        }
      ]
    },
    {
      "cell_type": "code",
      "source": [
        "math.floor(34.22)"
      ],
      "metadata": {
        "colab": {
          "base_uri": "https://localhost:8080/"
        },
        "id": "KaB5VOBZgqOJ",
        "outputId": "e22b0e94-b6be-42d1-fea8-be1256bd7ba4"
      },
      "execution_count": null,
      "outputs": [
        {
          "output_type": "execute_result",
          "data": {
            "text/plain": [
              "34"
            ]
          },
          "metadata": {},
          "execution_count": 52
        }
      ]
    },
    {
      "cell_type": "code",
      "source": [
        "math.factorial(4)"
      ],
      "metadata": {
        "colab": {
          "base_uri": "https://localhost:8080/"
        },
        "id": "kLb99ctqhikV",
        "outputId": "7e255e4a-c4b8-464f-9466-64e4d1b2833b"
      },
      "execution_count": null,
      "outputs": [
        {
          "output_type": "execute_result",
          "data": {
            "text/plain": [
              "24"
            ]
          },
          "metadata": {},
          "execution_count": 53
        }
      ]
    },
    {
      "cell_type": "code",
      "source": [
        "math.gcd(34,119)"
      ],
      "metadata": {
        "colab": {
          "base_uri": "https://localhost:8080/"
        },
        "id": "qYmpG8Q5hqTV",
        "outputId": "a89c91d8-902e-4dc0-cc12-babbbf63dfed"
      },
      "execution_count": null,
      "outputs": [
        {
          "output_type": "execute_result",
          "data": {
            "text/plain": [
              "17"
            ]
          },
          "metadata": {},
          "execution_count": 55
        }
      ]
    },
    {
      "cell_type": "code",
      "source": [
        "# to find smallest number \n",
        "a = int(input(\"Enter First Number :\"))\n",
        "b = int(input(\"Enter Second Number :\"))\n",
        "c = int(input(\"Enter Third Number :\"))\n",
        "\n",
        "min = a if a<b and a<c else b if b<c else c\n",
        "\n",
        "print(\"Smallest Number is: \", min)"
      ],
      "metadata": {
        "id": "ab6Xx7cUh_1R",
        "colab": {
          "base_uri": "https://localhost:8080/"
        },
        "outputId": "5caabe7e-170b-4fff-ac48-cdf7a5d2561a"
      },
      "execution_count": null,
      "outputs": [
        {
          "output_type": "stream",
          "name": "stdout",
          "text": [
            "Enter First Number :45\n",
            "Enter Second Number :65\n",
            "Enter Third Number :32\n",
            "Smallest Number is:  32\n"
          ]
        }
      ]
    },
    {
      "cell_type": "code",
      "source": [
        "# to creat reverse order\n",
        "a = [11,12,13,14,15,16,17,18]\n",
        "a1 = a[ : :-1]\n",
        "print(a1)"
      ],
      "metadata": {
        "colab": {
          "base_uri": "https://localhost:8080/"
        },
        "id": "9Z8w-dxgl_5X",
        "outputId": "9a602861-699a-4a30-a259-4225f583b3d9"
      },
      "execution_count": null,
      "outputs": [
        {
          "output_type": "stream",
          "name": "stdout",
          "text": [
            "[18, 17, 16, 15, 14, 13, 12, 11]\n"
          ]
        }
      ]
    },
    {
      "cell_type": "code",
      "source": [
        "import math\n",
        "\n",
        "math.ceil(33.32)"
      ],
      "metadata": {
        "colab": {
          "base_uri": "https://localhost:8080/"
        },
        "id": "1GxofkFynqV5",
        "outputId": "62711d35-5664-4e99-b6bf-2fef0f36b1ed"
      },
      "execution_count": null,
      "outputs": [
        {
          "output_type": "execute_result",
          "data": {
            "text/plain": [
              "34"
            ]
          },
          "metadata": {},
          "execution_count": 13
        }
      ]
    },
    {
      "cell_type": "code",
      "source": [
        "math.factorial(7)"
      ],
      "metadata": {
        "colab": {
          "base_uri": "https://localhost:8080/"
        },
        "id": "hDQBHOGxoX3a",
        "outputId": "69ebc76f-7bb9-4457-cf03-822b5fde2a12"
      },
      "execution_count": null,
      "outputs": [
        {
          "output_type": "execute_result",
          "data": {
            "text/plain": [
              "5040"
            ]
          },
          "metadata": {},
          "execution_count": 14
        }
      ]
    },
    {
      "cell_type": "code",
      "source": [
        "math.gcd(51,119)"
      ],
      "metadata": {
        "colab": {
          "base_uri": "https://localhost:8080/"
        },
        "id": "559pDJkJpCEk",
        "outputId": "cbfbd1e5-859c-48ef-cc2d-a01329e49b4a"
      },
      "execution_count": null,
      "outputs": [
        {
          "output_type": "execute_result",
          "data": {
            "text/plain": [
              "17"
            ]
          },
          "metadata": {},
          "execution_count": 16
        }
      ]
    },
    {
      "cell_type": "code",
      "source": [
        "# bitwise operator\n",
        "a = 78\n",
        "b = 42\n",
        "a&b"
      ],
      "metadata": {
        "colab": {
          "base_uri": "https://localhost:8080/"
        },
        "id": "CU0rGefdpUcS",
        "outputId": "edbe5bb7-c9e4-486c-9503-aa7c0c1a1a08"
      },
      "execution_count": null,
      "outputs": [
        {
          "output_type": "execute_result",
          "data": {
            "text/plain": [
              "10"
            ]
          },
          "metadata": {},
          "execution_count": 17
        }
      ]
    },
    {
      "cell_type": "code",
      "source": [
        "a = 78\n",
        "b = 42\n",
        "a|b"
      ],
      "metadata": {
        "colab": {
          "base_uri": "https://localhost:8080/"
        },
        "id": "9R_X1WcvpuOT",
        "outputId": "70bc98ff-ade9-41ed-f0bf-f81d56a6597a"
      },
      "execution_count": null,
      "outputs": [
        {
          "output_type": "execute_result",
          "data": {
            "text/plain": [
              "110"
            ]
          },
          "metadata": {},
          "execution_count": 18
        }
      ]
    },
    {
      "cell_type": "code",
      "source": [
        "a = 78\n",
        "b = 42\n",
        "a^b"
      ],
      "metadata": {
        "colab": {
          "base_uri": "https://localhost:8080/"
        },
        "id": "8QK9bmKZpzWI",
        "outputId": "b1c52b32-381b-4b98-b7ae-aa084053533a"
      },
      "execution_count": null,
      "outputs": [
        {
          "output_type": "execute_result",
          "data": {
            "text/plain": [
              "100"
            ]
          },
          "metadata": {},
          "execution_count": 19
        }
      ]
    },
    {
      "cell_type": "code",
      "source": [
        "#compliment\n",
        "(~55)"
      ],
      "metadata": {
        "colab": {
          "base_uri": "https://localhost:8080/"
        },
        "id": "0Xq5bKG7p2aH",
        "outputId": "7f16f0f8-99bd-4a0e-8f70-ca804ed9f875"
      },
      "execution_count": null,
      "outputs": [
        {
          "output_type": "execute_result",
          "data": {
            "text/plain": [
              "-56"
            ]
          },
          "metadata": {},
          "execution_count": 20
        }
      ]
    },
    {
      "cell_type": "code",
      "source": [
        "a = 78\n",
        "b = 42\n",
        "print('a+b=',a+b)"
      ],
      "metadata": {
        "colab": {
          "base_uri": "https://localhost:8080/"
        },
        "id": "yF8kFzaZqAbW",
        "outputId": "4cb4aaf9-4914-43cc-86cb-dfbf81b45da0"
      },
      "execution_count": null,
      "outputs": [
        {
          "output_type": "stream",
          "name": "stdout",
          "text": [
            "a+b= 120\n"
          ]
        }
      ]
    },
    {
      "cell_type": "code",
      "source": [
        "a = 78\n",
        "a+=22\n",
        "a"
      ],
      "metadata": {
        "colab": {
          "base_uri": "https://localhost:8080/"
        },
        "id": "m-sg_L89qOZv",
        "outputId": "c1e46f83-d7ab-42ce-c0d2-394e26e81ec1"
      },
      "execution_count": null,
      "outputs": [
        {
          "output_type": "execute_result",
          "data": {
            "text/plain": [
              "100"
            ]
          },
          "metadata": {},
          "execution_count": 26
        }
      ]
    },
    {
      "cell_type": "code",
      "source": [
        "#Write a program to check whether the given number is even or odd?\n",
        "a = int(input(\"Enter First Number: \"))\n",
        "\n",
        "if a%2==0:\n",
        "  print(\"Even Number\")\n",
        "else:\n",
        "  print(\"Odd Number\")"
      ],
      "metadata": {
        "colab": {
          "base_uri": "https://localhost:8080/"
        },
        "id": "RyDugOQcvkWE",
        "outputId": "2e5bfec4-e7a8-4d32-f39a-a0b4332825a6"
      },
      "execution_count": null,
      "outputs": [
        {
          "output_type": "stream",
          "name": "stdout",
          "text": [
            "Enter First Number: 98\n",
            "Even Number\n"
          ]
        }
      ]
    },
    {
      "cell_type": "code",
      "source": [
        "for a in range(5):\n",
        "  print('Manoj')"
      ],
      "metadata": {
        "colab": {
          "base_uri": "https://localhost:8080/"
        },
        "id": "qpqHOT80xC0w",
        "outputId": "1057ba94-8fcb-455d-8ef5-34225b2c4ed4"
      },
      "execution_count": null,
      "outputs": [
        {
          "output_type": "stream",
          "name": "stdout",
          "text": [
            "Manoj\n",
            "Manoj\n",
            "Manoj\n",
            "Manoj\n",
            "Manoj\n"
          ]
        }
      ]
    },
    {
      "cell_type": "code",
      "source": [
        "m = 'manoj'\n",
        "for j in m:\n",
        "  print(m, end=\" \")"
      ],
      "metadata": {
        "colab": {
          "base_uri": "https://localhost:8080/"
        },
        "id": "1ml-KmGNyLat",
        "outputId": "ea87ea44-4e3e-44c6-83ba-7553e8d8be53"
      },
      "execution_count": null,
      "outputs": [
        {
          "output_type": "stream",
          "name": "stdout",
          "text": [
            "manoj manoj manoj manoj manoj "
          ]
        }
      ]
    },
    {
      "cell_type": "code",
      "source": [
        "# To display odd numbers from 2 to 19:\n",
        "a = 2\n",
        "for a in range(2,20):\n",
        "  if(a%2 !=0):\n",
        "    print(a)"
      ],
      "metadata": {
        "colab": {
          "base_uri": "https://localhost:8080/"
        },
        "id": "1c_TfK-Wyf1K",
        "outputId": "ea6d1082-cd68-4a42-e47a-1fd315117d26"
      },
      "execution_count": null,
      "outputs": [
        {
          "output_type": "stream",
          "name": "stdout",
          "text": [
            "3\n",
            "5\n",
            "7\n",
            "9\n",
            "11\n",
            "13\n",
            "15\n",
            "17\n",
            "19\n"
          ]
        }
      ]
    },
    {
      "cell_type": "code",
      "source": [
        "# To display even numbers from 2 to 19:\n",
        "a = 2\n",
        "for a in range(2,20):\n",
        "  if a%2 ==0:\n",
        "    print(a)"
      ],
      "metadata": {
        "colab": {
          "base_uri": "https://localhost:8080/"
        },
        "id": "BzFUqDvEBgkz",
        "outputId": "317ac5b5-1d04-48d6-d831-32d385e3349e"
      },
      "execution_count": null,
      "outputs": [
        {
          "output_type": "stream",
          "name": "stdout",
          "text": [
            "2\n",
            "4\n",
            "6\n",
            "8\n",
            "10\n",
            "12\n",
            "14\n",
            "16\n",
            "18\n"
          ]
        }
      ]
    },
    {
      "cell_type": "code",
      "source": [
        "a = [10,20,30,40,50]\n",
        "a1=a[ : :-1]\n",
        "a1"
      ],
      "metadata": {
        "colab": {
          "base_uri": "https://localhost:8080/"
        },
        "id": "pdgskuyHEUdG",
        "outputId": "2ba7e5ec-7bc3-4efb-c3c8-4832a44f38c3"
      },
      "execution_count": null,
      "outputs": [
        {
          "output_type": "execute_result",
          "data": {
            "text/plain": [
              "[50, 40, 30, 20, 10]"
            ]
          },
          "metadata": {},
          "execution_count": 48
        }
      ]
    },
    {
      "cell_type": "code",
      "source": [
        "# To display even numbers from 2 to 19 using while loop:\n",
        "w = 2\n",
        "while w<=19:\n",
        "  print(w)\n",
        "  w+=2"
      ],
      "metadata": {
        "colab": {
          "base_uri": "https://localhost:8080/"
        },
        "id": "0B8z5_6aFLcu",
        "outputId": "bbd1631b-c066-4326-e504-2f7c1d435711"
      },
      "execution_count": null,
      "outputs": [
        {
          "output_type": "stream",
          "name": "stdout",
          "text": [
            "2\n",
            "4\n",
            "6\n",
            "8\n",
            "10\n",
            "12\n",
            "14\n",
            "16\n",
            "18\n"
          ]
        }
      ]
    },
    {
      "cell_type": "code",
      "source": [
        ""
      ],
      "metadata": {
        "id": "jGdw8FHMux7K"
      },
      "execution_count": null,
      "outputs": []
    },
    {
      "cell_type": "code",
      "source": [
        "#Write a Program to access each Character of String in Forward and Backward Direction by using while Loop?\n",
        "a = (\"Manoj Gharge I am Mechanical Engineer\")\n",
        "i = 0\n",
        "d = len(a)\n",
        "print(\"Forword Direction\")\n",
        "while i<d:\n",
        "  print(a[i], end='')\n",
        "  i+=1\n",
        "\n",
        "a = (\"Manoj Gharge I am Mechanical Engineer\")\n",
        "i = -1\n",
        "d = len(a)\n",
        "print(\"Backword Direction\")\n",
        "while i>=-d:\n",
        "  print(a[i],end='')\n",
        "  i-=1"
      ],
      "metadata": {
        "id": "P7CJUi2FRLTL",
        "outputId": "41554241-b543-48a4-db81-47b05d833890",
        "colab": {
          "base_uri": "https://localhost:8080/"
        }
      },
      "execution_count": 15,
      "outputs": [
        {
          "output_type": "stream",
          "name": "stdout",
          "text": [
            "Forword Direction\n",
            "Manoj Gharge I am Mechanical EngineerBackword Direction\n",
            "reenignE lacinahceM ma I egrahG jonaM"
          ]
        }
      ]
    },
    {
      "cell_type": "code",
      "source": [
        ""
      ],
      "metadata": {
        "id": "kyUioI9nu9nj"
      },
      "execution_count": null,
      "outputs": []
    }
  ]
}