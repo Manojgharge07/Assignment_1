{
  "nbformat": 4,
  "nbformat_minor": 0,
  "metadata": {
    "colab": {
      "name": "Assignment_2.ipynb",
      "provenance": [],
      "authorship_tag": "ABX9TyOylX3NrgTvyGmYWWGkezwm",
      "include_colab_link": true
    },
    "kernelspec": {
      "name": "python3",
      "display_name": "Python 3"
    },
    "language_info": {
      "name": "python"
    }
  },
  "cells": [
    {
      "cell_type": "markdown",
      "metadata": {
        "id": "view-in-github",
        "colab_type": "text"
      },
      "source": [
        "<a href=\"https://colab.research.google.com/github/Manojgharge07/Assignments/blob/main/Assignment_2.ipynb\" target=\"_parent\"><img src=\"https://colab.research.google.com/assets/colab-badge.svg\" alt=\"Open In Colab\"/></a>"
      ]
    },
    {
      "cell_type": "markdown",
      "source": [
        "# **Q. 1 What’s The Difference Between The Python append() and extend() Methods?**\n",
        "\n",
        "1. The main difference is append( ) method add elements in list. And extend( ) method join or concatenates the whole list that means 1st list add with another.\n",
        "\n",
        "2. In append add only single elements in list and in extend we can add multiple elements.\n",
        "\n"
      ],
      "metadata": {
        "id": "RIpAFadxLSC8"
      }
    },
    {
      "cell_type": "code",
      "source": [
        "l = [\"geeks\", \"for\"]\n",
        "l.append(\"geeks\")\n",
        "print(l)"
      ],
      "metadata": {
        "colab": {
          "base_uri": "https://localhost:8080/"
        },
        "id": "CWLMFaNON_Cf",
        "outputId": "56dc1bdd-d5ef-4b46-f3fd-5de4235590ff"
      },
      "execution_count": null,
      "outputs": [
        {
          "output_type": "stream",
          "name": "stdout",
          "text": [
            "['geeks', 'for', 'geeks']\n"
          ]
        }
      ]
    },
    {
      "cell_type": "code",
      "source": [
        "l = [\"geeks\", \"for\",\"geeks\"]\n",
        "l2=[\"geeks\", \"for\",\"geeks\"]\n",
        "l.extend(l2)\n",
        "print(l)"
      ],
      "metadata": {
        "colab": {
          "base_uri": "https://localhost:8080/"
        },
        "id": "bNfwHDvmOhtH",
        "outputId": "4a2a5809-43be-4e21-db43-b3e97ab15aab"
      },
      "execution_count": null,
      "outputs": [
        {
          "output_type": "stream",
          "name": "stdout",
          "text": [
            "['geeks', 'for', 'geeks', 'geeks', 'for', 'geeks']\n"
          ]
        }
      ]
    },
    {
      "cell_type": "markdown",
      "source": [
        "# **Q. 2 Write a Python program to append a list to the second list**"
      ],
      "metadata": {
        "id": "-KjIE32RNlHe"
      }
    },
    {
      "cell_type": "code",
      "execution_count": null,
      "metadata": {
        "id": "XaSzdv4DqICZ",
        "colab": {
          "base_uri": "https://localhost:8080/"
        },
        "outputId": "d853b26c-1ccb-4e00-d0b4-2eec0c6a01b3"
      },
      "outputs": [
        {
          "output_type": "stream",
          "name": "stdout",
          "text": [
            "['geeks', 'for', 'geeks', [10, 20, 30, 40, 50]]\n"
          ]
        }
      ],
      "source": [
        "l = [\"geeks\", \"for\",\"geeks\"]\n",
        "l2=[10,20,30,40,50]\n",
        "l.append(l2)\n",
        "print(l)"
      ]
    },
    {
      "cell_type": "markdown",
      "source": [
        "# **Q. 3 Write a Python program to find the third-largest number in a list**"
      ],
      "metadata": {
        "id": "nisn5HDGQtbr"
      }
    },
    {
      "cell_type": "code",
      "source": [
        "l=[5,8,3,9,6,10,7,12,1,15,22,18]\n",
        "for j in range(3):\n",
        "  max=l[0]\n",
        "  for i in l:\n",
        "    if i>max:\n",
        "       max=i\n",
        "  if j==2:\n",
        "     print(max)\n",
        "  else:\n",
        "     l.remove(max)"
      ],
      "metadata": {
        "colab": {
          "base_uri": "https://localhost:8080/"
        },
        "id": "WjRyB4zzQ1qC",
        "outputId": "4c1d3d9b-39f0-4c4b-daf2-02f8f55f3802"
      },
      "execution_count": null,
      "outputs": [
        {
          "output_type": "stream",
          "name": "stdout",
          "text": [
            "15\n"
          ]
        }
      ]
    },
    {
      "cell_type": "markdown",
      "source": [
        "# **Q. 4 Write a Python program to get the frequency of the elements in a list.**"
      ],
      "metadata": {
        "id": "UjNY2EAsblYS"
      }
    },
    {
      "cell_type": "code",
      "source": [
        "s=\"1,2,1,3,2,4,5,3,4,7,5,7,4,7,4,4,3,2,2,\"\n",
        "d={}\n",
        "for x in s:\n",
        "  if x in d.keys():\n",
        "     d[x]=d[x]+1\n",
        "  else:\n",
        "     d[x]=1"
      ],
      "metadata": {
        "id": "FUDGInnLbS9o"
      },
      "execution_count": null,
      "outputs": []
    },
    {
      "cell_type": "code",
      "source": [
        "d"
      ],
      "metadata": {
        "colab": {
          "base_uri": "https://localhost:8080/"
        },
        "id": "rSpcZ027nCzq",
        "outputId": "6cdb3b54-aa51-4a4f-f04c-936137213596"
      },
      "execution_count": null,
      "outputs": [
        {
          "output_type": "execute_result",
          "data": {
            "text/plain": [
              "{',': 19, '1': 2, '2': 4, '3': 3, '4': 5, '5': 2, '7': 3}"
            ]
          },
          "metadata": {},
          "execution_count": 10
        }
      ]
    },
    {
      "cell_type": "markdown",
      "source": [
        "# **Q.5 Write a Python program to check whether a list contains a sublist**"
      ],
      "metadata": {
        "id": "oBBEzkoDnmLB"
      }
    },
    {
      "cell_type": "code",
      "source": [
        "a = [1, 2, 3, 4, 5]\n",
        "b = [1, 2]\n",
        " \n",
        "# using set to find if element exists in another list\n",
        "result = set(x in a for x in b)\n",
        " \n",
        "flag = 0\n",
        " \n",
        "for ans in result:\n",
        "    if ans == False:\n",
        "        flag = 1\n",
        " \n",
        "# Printing list\n",
        "print(\"Original list : \" + str(a))\n",
        "print(\"Original sub list : \" + str(b))\n",
        " \n",
        "if flag == 0:\n",
        "    print(\"Yes, list is subset of other.\")\n",
        "else:\n",
        "    print(\"No, list is not subset of other.\")"
      ],
      "metadata": {
        "colab": {
          "base_uri": "https://localhost:8080/"
        },
        "id": "Do98aGxLnF2f",
        "outputId": "1e81ad99-7084-4519-bdb1-249973946e18"
      },
      "execution_count": null,
      "outputs": [
        {
          "output_type": "stream",
          "name": "stdout",
          "text": [
            "Original list : [1, 2, 3, 4, 5]\n",
            "Original sub list : [1, 2]\n",
            "Yes, list is subset of other.\n"
          ]
        }
      ]
    },
    {
      "cell_type": "markdown",
      "source": [
        "# **Q. 6 Write a Python program to generate all sublists of a list**\n"
      ],
      "metadata": {
        "id": "v1fpHohXx3Pg"
      }
    },
    {
      "cell_type": "code",
      "source": [
        ""
      ],
      "metadata": {
        "id": "k5bQAbwGxwkQ"
      },
      "execution_count": null,
      "outputs": []
    },
    {
      "cell_type": "markdown",
      "source": [
        ""
      ],
      "metadata": {
        "id": "IBQCTzY319vm"
      }
    },
    {
      "cell_type": "code",
      "source": [
        ""
      ],
      "metadata": {
        "id": "Ybq0B9Qx1-ca"
      },
      "execution_count": null,
      "outputs": []
    },
    {
      "cell_type": "markdown",
      "source": [
        "# **Q. 8 How to flatten a list in python?**\n",
        "\n",
        "\n",
        "There are three ways to flatten a Python list:\n",
        "\n",
        "\n",
        "1. Using a list comprehension.\n",
        "\n",
        "2. Using a nested for loop.\n",
        "\n",
        "3. Using the itertools. chain() method."
      ],
      "metadata": {
        "id": "N6sWeMQ_1_Jd"
      }
    },
    {
      "cell_type": "markdown",
      "source": [
        "# **Q. 9 How to sort a list in ascending and descending order without using the sort function?**"
      ],
      "metadata": {
        "id": "D2hQfHB23Yje"
      }
    },
    {
      "cell_type": "code",
      "source": [
        "my_list = [4, 2, 3, -1, -2, 0, 1]   #Ascending order\n",
        "\n",
        "for i in range(len(my_list)):\n",
        "    for j in range(i + 1, len(my_list)):\n",
        "\n",
        "        if my_list[i] > my_list[j]:\n",
        "            my_list[i], my_list[j] = my_list[j], my_list[i]\n",
        "\n",
        "print(my_list)"
      ],
      "metadata": {
        "colab": {
          "base_uri": "https://localhost:8080/"
        },
        "id": "obFzC5793ZHq",
        "outputId": "833bbf81-22ac-4990-a1fb-add54806382a"
      },
      "execution_count": null,
      "outputs": [
        {
          "output_type": "stream",
          "name": "stdout",
          "text": [
            "[-2, -1, 0, 1, 2, 3, 4]\n"
          ]
        }
      ]
    },
    {
      "cell_type": "code",
      "source": [
        "my_list = [4, 2, 3, -1, -2, 0, 1]   #Descending order\n",
        "\n",
        "for i in range(len(my_list)):\n",
        "    for j in range(i + 1, len(my_list)):\n",
        "\n",
        "        if my_list[i] < my_list[j]:\n",
        "            my_list[i], my_list[j] = my_list[j], my_list[i]\n",
        "\n",
        "print(my_list)"
      ],
      "metadata": {
        "colab": {
          "base_uri": "https://localhost:8080/"
        },
        "id": "r9YhpeNA3Z_5",
        "outputId": "04957423-75ba-4ba0-dbcb-db64ab0dbae7"
      },
      "execution_count": null,
      "outputs": [
        {
          "output_type": "stream",
          "name": "stdout",
          "text": [
            "[4, 3, 2, 1, 0, -1, -2]\n"
          ]
        }
      ]
    },
    {
      "cell_type": "markdown",
      "source": [
        "# **Q. 10 How to sort a tuple?**\n",
        "\n",
        "To sort a Tuple in Python, use sorted() builtin function."
      ],
      "metadata": {
        "id": "i0D_DzaQ4cVD"
      }
    },
    {
      "cell_type": "code",
      "source": [
        "def last(n):\n",
        "    return n[m]  \n",
        "   \n",
        "# function to sort the tuple   \n",
        "def sort(tuples):\n",
        "  \n",
        "    # We pass used defined function last\n",
        "    # as a parameter. \n",
        "    return sorted(tuples, key = last)\n",
        "   \n",
        "# driver code  \n",
        "a = [(23, 45, 20), (25, 44, 39), (89, 40, 23)]\n",
        "m = 2\n",
        "print(\"Sorted:\"),\n",
        "print(sort(a))"
      ],
      "metadata": {
        "colab": {
          "base_uri": "https://localhost:8080/"
        },
        "id": "2218mqnE3wAy",
        "outputId": "f318f8cb-a362-4335-a858-a6ebd2358736"
      },
      "execution_count": null,
      "outputs": [
        {
          "output_type": "stream",
          "name": "stdout",
          "text": [
            "Sorted:\n",
            "[(23, 45, 20), (89, 40, 23), (25, 44, 39)]\n"
          ]
        }
      ]
    },
    {
      "cell_type": "markdown",
      "source": [
        "# **Q. 11 Write a Python program to convert a list of multiple integers into a single intege**\n",
        "\n",
        "a. [11, 33, 50] >>> 113350"
      ],
      "metadata": {
        "id": "ZSaijNJP45TH"
      }
    },
    {
      "cell_type": "code",
      "source": [
        "x = [12, 15, 17]\n",
        "  \n",
        "# iterating each element\n",
        "for i in x:\n",
        "    print(i, end=\"\")"
      ],
      "metadata": {
        "colab": {
          "base_uri": "https://localhost:8080/"
        },
        "id": "Smywnsdp5LRE",
        "outputId": "16dd6912-7ee0-4a56-c51f-44f5ffb6d6ce"
      },
      "execution_count": null,
      "outputs": [
        {
          "output_type": "stream",
          "name": "stdout",
          "text": [
            "121517"
          ]
        }
      ]
    },
    {
      "cell_type": "code",
      "source": [
        ""
      ],
      "metadata": {
        "id": "MZLkX7Jt5RYs"
      },
      "execution_count": null,
      "outputs": []
    }
  ]
}