{
  "nbformat": 4,
  "nbformat_minor": 0,
  "metadata": {
    "colab": {
      "name": "Python_basic13.ipynb",
      "provenance": [],
      "authorship_tag": "ABX9TyMylkQ3gaRGxvXstrB2+q0k",
      "include_colab_link": true
    },
    "kernelspec": {
      "name": "python3",
      "display_name": "Python 3"
    },
    "language_info": {
      "name": "python"
    }
  },
  "cells": [
    {
      "cell_type": "markdown",
      "metadata": {
        "id": "view-in-github",
        "colab_type": "text"
      },
      "source": [
        "<a href=\"https://colab.research.google.com/github/Manojgharge07/Assignment_1/blob/main/Python_Basic_Project1.ipynb\" target=\"_parent\"><img src=\"https://colab.research.google.com/assets/colab-badge.svg\" alt=\"Open In Colab\"/></a>"
      ]
    },
    {
      "cell_type": "code",
      "execution_count": null,
      "metadata": {
        "id": "CGHtIS_BSu2U"
      },
      "outputs": [],
      "source": [
        "print(\"Welcome To HDFC Bank\\n\\nPlease insert your card\")\n",
        "\n",
        "password = 1234\n",
        "\n",
        "pin = int(input(\"Enter your Four digit pin\"))\n",
        "\n",
        "if pin == password:\n",
        "\n",
        "  while choice != 4:\n",
        "    print(\"**Display Menu**\")\n",
        "    print(\"1\" \"Withdrawal\")\n",
        "    print(\"2\" \"Saving\")\n",
        "    print(\"3\" \"Current\")\n",
        "    print(\"4\" \"Other\")\n",
        "\n",
        "    choise = int(input(\"\\nEnter you option:\\n\"))\n",
        "\n",
        "    if choise = 1\n",
        "\n",
        "else:\n",
        "  print(\"pin incorrect\")\n"
      ]
    }
  ]
}